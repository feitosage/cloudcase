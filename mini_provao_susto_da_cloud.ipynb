{
 "cells": [
  {
   "cell_type": "code",
   "execution_count": 20,
   "id": "c83eaa25-f355-4844-a970-229ec8df6d9f",
   "metadata": {},
   "outputs": [],
   "source": [
    "# carregando bibliotecas\n",
    "import pandas as pd\n"
   ]
  },
  {
   "cell_type": "code",
   "execution_count": 22,
   "id": "3eb3c75e-e6fc-4bb3-ace1-9b9ae5fb44bd",
   "metadata": {},
   "outputs": [
    {
     "name": "stdout",
     "output_type": "stream",
     "text": [
      "[\"Transação ID 1: Em 2024-12-15 01:16:00, foi realizada uma transação no valor de R$ 461981.83. A parte debitada foi identificada como CPF59095 e a parte creditada como CNPJ28807. O status da transação é 'pending' e as notas adicionais indicam: Transferência PIX.\", \"Transação ID 2: Em 2024-12-15 15:35:00, foi realizada uma transação no valor de R$ 323451.82. A parte debitada foi identificada como CPF29101 e a parte creditada como CNPJ32900. O status da transação é 'pending' e as notas adicionais indicam: Transferência comum.\", \"Transação ID 3: Em 2024-12-15 00:56:00, foi realizada uma transação no valor de R$ 142069.57. A parte debitada foi identificada como CPF48141 e a parte creditada como CNPJ17002. O status da transação é 'blocked' e as notas adicionais indicam: Bloqueio automático.\", \"Transação ID 4: Em 2024-12-15 15:11:00, foi realizada uma transação no valor de R$ 66370.58. A parte debitada foi identificada como CPF89208 e a parte creditada como CNPJ22299. O status da transação é 'blocked' e as notas adicionais indicam: Transferência comum.\", \"Transação ID 5: Em 2024-12-15 18:35:00, foi realizada uma transação no valor de R$ 27891.93. A parte debitada foi identificada como CPF36991 e a parte creditada como CNPJ14645. O status da transação é 'pending' e as notas adicionais indicam: Cash-out suspeito.\"]\n",
      "['ALERTA: Transação 1 excede R$ 100.000,00.', 'ALERTA: Transação 1 envolve uma PEP (CPF59095 ou CNPJ28807).', 'ALERTA: Transação 2 excede R$ 100.000,00.', 'ALERTA: Transação 2 envolve uma PEP (CPF29101 ou CNPJ32900).', 'ALERTA: Transação 3 excede R$ 100.000,00.']\n"
     ]
    }
   ],
   "source": [
    "# Função que carrega dataset e prepara arquivo para análise em texto.\n",
    "def convert_table_to_gpt_format(file_path, peps_list=None):\n",
    "    \"\"\"\n",
    "    Lê um arquivo Excel e aplica padrões de detecção AML, além de converter linhas em strings descritivas.\n",
    "\n",
    "    :param file_path: Caminho para o arquivo Excel.\n",
    "    :param peps_list: Lista opcional de PEPs (Pessoas Expostas Politicamente).\n",
    "    :return: lista de strings descritivas e alertas detectados\n",
    "    \"\"\"\n",
    "    # Carregar o arquivo Excel\n",
    "    dataframe = pd.read_excel(file_path)\n",
    "\n",
    "    # Lista para armazenar descrições e alertas\n",
    "    descriptions = []\n",
    "    alerts = []\n",
    "\n",
    "    for _, row in dataframe.iterrows():\n",
    "        description = (\n",
    "            f\"Transação ID {row['transaction_id']}: Em {row['timestamp']}, \"\n",
    "            f\"foi realizada uma transação no valor de R$ {row['amount']:.2f}. \"\n",
    "            f\"A parte debitada foi identificada como {row['debit_party']} \"\n",
    "            f\"e a parte creditada como {row['credit_party']}. \"\n",
    "            f\"O status da transação é '{row['status']}' e as notas adicionais indicam: {row['notes']}.\"\n",
    "        )\n",
    "        descriptions.append(description)\n",
    "\n",
    "        # Detectar transações acima de R$ 100.000,00\n",
    "        if row['amount'] > 100000.00:\n",
    "            alerts.append(f\"ALERTA: Transação {row['transaction_id']} excede R$ 100.000,00.\")\n",
    "\n",
    "        # Detectar envolvimento de PEPs\n",
    "        if peps_list and (row['debit_party'] in peps_list or row['credit_party'] in peps_list):\n",
    "            alerts.append(f\"ALERTA: Transação {row['transaction_id']} envolve uma PEP ({row['debit_party']} ou {row['credit_party']}).\")\n",
    "\n",
    "    # Detectar transferências em alta frequência\n",
    "    dataframe['timestamp'] = pd.to_datetime(dataframe['timestamp'])\n",
    "    dataframe.sort_values(by=['debit_party', 'timestamp'], inplace=True)\n",
    "    dataframe['time_diff'] = dataframe.groupby('debit_party')['timestamp'].diff().dt.total_seconds()\n",
    "\n",
    "    for _, row in dataframe.iterrows():\n",
    "        if pd.notnull(row['time_diff']) and row['time_diff'] < 3600:  # Intervalo menor que 1 hora\n",
    "            alerts.append(f\"ALERTA: Alta frequência detectada para {row['debit_party']} na transação {row['transaction_id']}.\")\n",
    "\n",
    "    return descriptions, alerts\n",
    "\n",
    "# Exemplo de uso\n",
    "file_path = 'fictitious_pix_data (1).xlsx'\n",
    "peps_list = ['CPF59095', 'CNPJ32900']  # Exemplo de lista de PEPs\n",
    "descriptions, alerts = convert_table_to_gpt_format(file_path, peps_list=peps_list)\n",
    "\n",
    "# Exibir os primeiros exemplos para validação\n",
    "print(descriptions[:5])\n",
    "print(alerts[:5])\n"
   ]
  },
  {
   "cell_type": "code",
   "execution_count": null,
   "id": "153e4098-25f4-421e-9978-845276159ae4",
   "metadata": {
    "jupyter": {
     "source_hidden": true
    }
   },
   "outputs": [],
   "source": [
    "# criando função\n",
    "\n",
    "def convert_table_to_gpt_format(dataframe):\n",
    "    \"\"\"\n",
    "    Converte cada linha de um DataFrame em uma string descritiva para leitura pelo GPT.\n",
    "\n",
    "    :param dataframe: pandas.DataFrame\n",
    "    :return: lista de strings descritivas\n",
    "    \"\"\"\n",
    "    descriptions = []\n",
    "\n",
    "    for _, row in dataframe.iterrows():\n",
    "        description = (\n",
    "            f\"Transação ID {row['transaction_id']}: Em {row['timestamp']}, \"\n",
    "            f\"foi realizada uma transação no valor de R$ {row['amount']:.2f}. \"\n",
    "            f\"A parte debitada foi identificada como {row['debit_party']} \"\n",
    "            f\"e a parte creditada como {row['credit_party']}. \"\n",
    "            f\"O status da transação é '{row['status']}' e as notas adicionais indicam: {row['notes']}.\"\n",
    "        )\n",
    "        descriptions.append(description)\n",
    "\n",
    "    return descriptions\n",
    "\n",
    "# Testando a função com a tabela carregada\n",
    "gpt_ready_data = convert_table_to_gpt_format(df)\n",
    "\n",
    "# Exibir os primeiros exemplos para validação\n",
    "print(gpt_ready_data[:5])\n"
   ]
  }
 ],
 "metadata": {
  "kernelspec": {
   "display_name": "Python 3 (ipykernel)",
   "language": "python",
   "name": "python3"
  },
  "language_info": {
   "codemirror_mode": {
    "name": "ipython",
    "version": 3
   },
   "file_extension": ".py",
   "mimetype": "text/x-python",
   "name": "python",
   "nbconvert_exporter": "python",
   "pygments_lexer": "ipython3",
   "version": "3.12.7"
  }
 },
 "nbformat": 4,
 "nbformat_minor": 5
}
